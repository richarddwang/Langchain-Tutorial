{
 "cells": [
  {
   "cell_type": "code",
   "execution_count": 1,
   "metadata": {},
   "outputs": [],
   "source": [
    "from operator import itemgetter\n",
    "\n",
    "from langchain.document_loaders import DirectoryLoader, TextLoader\n",
    "from langchain.vectorstores import Qdrant\n",
    "from langchain.embeddings import OpenAIEmbeddings\n",
    "from langchain.schema import Document\n",
    "from langchain.schema.runnable import RunnableSequence\n",
    "\n",
    "from langchain_setup import pprint_documents, tracing_v2_enabled_if_api_key_set"
   ]
  },
  {
   "cell_type": "markdown",
   "metadata": {},
   "source": [
    "# 作文抽取\n",
    "抽取出跟審查中的作文相似的作文。\n",
    "\n",
    "可以想像網路中可以抄襲的作文有千千萬萬篇，要從中先快速找出相似的作文再來細細比較。這邊為了教學方邊假設只有三篇作文提供比對"
   ]
  },
  {
   "cell_type": "code",
   "execution_count": 2,
   "metadata": {},
   "outputs": [
    {
     "name": "stdout",
     "output_type": "stream",
     "text": [
      "Document 1:\n",
      "\n",
      "愛迪生說：「友誼能增進快樂，減少痛苦」，可見朋友有多重要。朋友像一根拐杖，當我跌倒的時候，扶我起來，支撐我繼續往前走；朋友像一位溫柔的老師，當我功課不會寫時，他會很用心的教導我；朋友像一顆開心果，當我難過或傷心時，講笑話給我聽；朋友像一個太陽，當我遇到困難時，覺得人生黑暗的時候，他會溫暖我的心。猶記一年級的時候，我有一位很要好的朋友，她喜歡運動和打球，而我也很喜歡運動，下課的時候，我常常跟她一起玩。她很大方，也很有禮貌，又喜歡幫老師做事，人緣好，所以大家都選她當班長。在她身上我看到很多優點，也學到很多，有了她的陪伴，所以每天在學校都過得很開心。有一次我在操場上跌倒流血，倒在地上爬不起來，是她扶我起來，陪我到健康中心。接下來那幾天，她幫我打掃、交作業，這讓我深深體會好朋友是多麼重要。雖然我們升上中年級後沒有在同一班，但我們還是思念著對方，下課時常常聚在一起，我的心中仍將她視為最好的朋友。如果一個人沒有朋友，就找不到陪她一起玩樂和訴苦的人，這樣就會很孤單。朋友是一生中絕對不能少的，缺少了他，我可能每天心情不好而感到孤獨寂寞。有了好朋友，是一件很幸福的事，也要懂得珍惜，建立的友誼才能長久。\n",
      "\n",
      "Metadata:{'source': 'homework/1063058_王芸芸.txt'}\n",
      "----------------------------------------------------------------------------------------------------\n",
      "Document 2:\n",
      "\n",
      "如果交了一個朋友，卻不好好珍惜她，很快就會失去了。人如果沒朋友，就有如地球沒有陽光一樣。與朋友相處時，要多微笑，不要每天都愁眉苦，他會以為是自己做了什麼事而讓你生氣，或是不敢靠近你，所以每天都要面帶微笑，身邊自然會聚集一群好朋友。我們平時就要珍惜朋友，就有如英國作家柯爾頓：「真正的友誼猶如健康，只有失去時，才會意識到它的價值。」很多人都是因為失去了友誼，才知道它真正的價值，但往往後悔已經來不及了。朋友之間真的要互相好好珍惜，友誼可以是人生的調味品，也可以是人生的止痛藥。和朋友交往，要多欣賞他的優點，並且隨時注意修正自己的缺點，這樣建立的友誼才能長久。交了一個好朋友不但可以幫助我們，也可以改變我們，讓自己的逐漸成為大家喜歡的人。\n",
      "\n",
      "Metadata:{'source': 'homework/1063059_陳惠惠.txt'}\n",
      "----------------------------------------------------------------------------------------------------\n",
      "Document 3:\n",
      "\n",
      "什麼叫作朋友？我覺得朋友是難過或開心時，可以訴說心情的人。難過時，朋友會安慰我、逗我笑；開心時，朋友會聽我訴說今天發生什麼事情，和我一起歡樂。朋友可以做什麼？朋友不只可以聽我訴說心裡的話，還可以陪我玩。當肚子餓時，朋友也會將她珍藏的食物與我分享。朋友就像家人一樣，而培養朋友之間的友情，就得像農夫種植農作物一樣，必須付出的更多的心力去關心她，友誼才能越好、越堅固。朋友能添樂也可以分憂，而真正的友情，可以帶有完全的信任。如果交了一個朋友，卻不好好珍惜她，很快就會失去了。人如果沒朋友，就有如地球沒有陽光一樣。與朋友相處時，要多微笑，不要每天都愁眉苦，他會以為是自己做了什麼事而讓你生氣，或是不敢靠近你，所以每天都要面帶微笑，身邊自然會聚集一群好朋友。我們平時就要珍惜朋友，就有如英國作家柯爾頓：「真正的友誼猶如健康，只有失去時，才會意識到它的價值。」很多人都是因為失去了友誼，才知道它真正的價值，但往往後悔已經來不及了。朋友之間真的要互相好好珍惜，友誼可以是人生的調味品，也可以是人生的止痛藥。和朋友交往，要多欣賞他的優點，並且隨時注意修正自己的缺點，這樣建立的友誼才能長久。交了一個好朋友不但可以幫助我們，也可以改變我們，讓自己的逐漸成為大家喜歡的人。\n",
      "\n",
      "Metadata:{'source': 'homework/1063057_林和真.txt'}\n"
     ]
    }
   ],
   "source": [
    "# ======================================================\n",
    "# 資料讀取: 讀取文字檔案成文件 (Documents)\n",
    "# ======================================================\n",
    "\n",
    "\n",
    "documents: list[Document] = DirectoryLoader(\n",
    "    path=\"./homework/\", loader_cls=TextLoader\n",
    ").load()\n",
    "\n",
    "pprint_documents(documents)"
   ]
  },
  {
   "cell_type": "code",
   "execution_count": 3,
   "metadata": {},
   "outputs": [
    {
     "name": "stdout",
     "output_type": "stream",
     "text": [
      "Document 1:\n",
      "\n",
      "愛迪生說：「友誼能增進快樂，減少痛苦」，可見朋友有多重要。朋友像一根拐杖，當我跌倒的時候，扶我起來，支撐我繼續往前走；朋友像一位溫柔的老師，當我功課不會寫時，他會很用心的教導我；朋友像一顆開心果，當我難過或傷心時，講笑話給我聽；朋友像一個太陽，當我遇到困難時，覺得人生黑暗的時候，他會溫暖我的心。猶記一年級的時候，我有一位很要好的朋友，她喜歡運動和打球，而我也很喜歡運動，下課的時候，我常常跟她一起玩。她很大方，也很有禮貌，又喜歡幫老師做事，人緣好，所以大家都選她當班長。在她身上我看到很多優點，也學到很多，有了她的陪伴，所以每天在學校都過得很開心。有一次我在操場上跌倒流血，倒在地上爬不起來，是她扶我起來，陪我到健康中心。接下來那幾天，她幫我打掃、交作業，這讓我深深體會好朋友是多麼重要。雖然我們升上中年級後沒有在同一班，但我們還是思念著對方，下課時常常聚在一起，我的心中仍將她視為最好的朋友。如果一個人沒有朋友，就找不到陪她一起玩樂和訴苦的人，這樣就會很孤單。朋友是一生中絕對不能少的，缺少了他，我可能每天心情不好而感到孤獨寂寞。有了好朋友，是一件很幸福的事，也要懂得珍惜，建立的友誼才能長久。\n",
      "\n",
      "Metadata:{'source': 'homework/1063058_王芸芸.txt'}\n",
      "----------------------------------------------------------------------------------------------------\n",
      "Document 2:\n",
      "\n",
      "如果交了一個朋友，卻不好好珍惜她，很快就會失去了。人如果沒朋友，就有如地球沒有陽光一樣。與朋友相處時，要多微笑，不要每天都愁眉苦，他會以為是自己做了什麼事而讓你生氣，或是不敢靠近你，所以每天都要面帶微笑，身邊自然會聚集一群好朋友。我們平時就要珍惜朋友，就有如英國作家柯爾頓：「真正的友誼猶如健康，只有失去時，才會意識到它的價值。」很多人都是因為失去了友誼，才知道它真正的價值，但往往後悔已經來不及了。朋友之間真的要互相好好珍惜，友誼可以是人生的調味品，也可以是人生的止痛藥。和朋友交往，要多欣賞他的優點，並且隨時注意修正自己的缺點，這樣建立的友誼才能長久。交了一個好朋友不但可以幫助我們，也可以改變我們，讓自己的逐漸成為大家喜歡的人。\n",
      "\n",
      "Metadata:{'source': 'homework/1063059_陳惠惠.txt'}\n",
      "----------------------------------------------------------------------------------------------------\n",
      "Document 3:\n",
      "\n",
      "什麼叫作朋友？我覺得朋友是難過或開心時，可以訴說心情的人。難過時，朋友會安慰我、逗我笑；開心時，朋友會聽我訴說今天發生什麼事情，和我一起歡樂。朋友可以做什麼？朋友不只可以聽我訴說心裡的話，還可以陪我玩。當肚子餓時，朋友也會將她珍藏的食物與我分享。朋友就像家人一樣，而培養朋友之間的友情，就得像農夫種植農作物一樣，必須付出的更多的心力去關心她，友誼才能越好、越堅固。朋友能添樂也可以分憂，而真正的友情，可以帶有完全的信任。如果交了一個朋友，卻不好好珍惜她，很快就會失去了。人如果沒朋友，就有如地球沒有陽光一樣。與朋友相處時，要多微笑，不要每天都愁眉苦，他會以為是自己做了什麼事而讓你生氣，或是不敢靠近你，所以每天都要面帶微笑，身邊自然會聚集一群好朋友。我們平時就要珍惜朋友，就有如英國作家柯爾頓：「真正的友誼猶如健康，只有失去時，才會意識到它的價值。」很多人都是因為失去了友誼，才知道它真正的價值，但往往後悔已經來不及了。朋友之間真的要互相好好珍惜，友誼可以是人生的調味品，也可以是人生的止痛藥。和朋友交往，要多欣賞他的優點，並且隨時注意修正自己的缺點\n",
      "\n",
      "Metadata:{'source': 'homework/1063057_林和真.txt'}\n",
      "----------------------------------------------------------------------------------------------------\n",
      "Document 4:\n",
      "\n",
      "要多欣賞他的優點，並且隨時注意修正自己的缺點，這樣建立的友誼才能長久。交了一個好朋友不但可以幫助我們，也可以改變我們，讓自己的逐漸成為大家喜歡的人。\n",
      "\n",
      "Metadata:{'source': 'homework/1063057_林和真.txt'}\n"
     ]
    }
   ],
   "source": [
    "# ======================================================\n",
    "# 文檔切分：將過長的文檔再細分出更小的文檔\n",
    "# ======================================================\n",
    "\n",
    "# 假設我們預算有限，怕整份作文丟給語言模型會花太多錢，我們就會需要把一個長的作文分割成多個段落\n",
    "# 注意這邊為了教學方便用的是最基礎的以字元 (character) 數來切割，但真實應用中通常會用 `from_tiktoken_encoder`，以 token 數來切割\n",
    "\n",
    "from langchain.text_splitter import CharacterTextSplitter\n",
    "\n",
    "text_splitter = CharacterTextSplitter(\n",
    "    separator=\"，\",\n",
    "    chunk_size=500,\n",
    "    chunk_overlap=30,\n",
    ")\n",
    "split_documents: list[Document] = text_splitter.split_documents(documents)\n",
    "\n",
    "pprint_documents(split_documents)"
   ]
  },
  {
   "cell_type": "code",
   "execution_count": 4,
   "metadata": {},
   "outputs": [],
   "source": [
    "# 建立 Vector store 和 Retriever\n",
    "\n",
    "## 建立 Vector store\n",
    "vectore_store = Qdrant.from_documents(\n",
    "    documents,\n",
    "    embedding=OpenAIEmbeddings(),\n",
    "    location=\":memory:\",\n",
    ")\n",
    "\n",
    "## 建立 Retriever\n",
    "## 篩選出相似度大於閥值 `score_threshold` 且相似度排名前 `k` 高的文件\n",
    "retriever = vectore_store.as_retriever(search_kwargs=dict(score_threshold=0.7, k=2))"
   ]
  },
  {
   "cell_type": "code",
   "execution_count": 5,
   "metadata": {},
   "outputs": [],
   "source": [
    "# 建立文件抽取的 runnable\n",
    "\n",
    "retrieve: RunnableSequence = (\n",
    "    itemgetter(\"article\") | retriever\n",
    ")  # {'article': str} -> list[Document]"
   ]
  },
  {
   "cell_type": "code",
   "execution_count": 6,
   "metadata": {},
   "outputs": [
    {
     "data": {
      "text/plain": [
       "[Document(page_content='如果交了一個朋友，卻不好好珍惜她，很快就會失去了。人如果沒朋友，就有如地球沒有陽光一樣。與朋友相處時，要多微笑，不要每天都愁眉苦，他會以為是自己做了什麼事而讓你生氣，或是不敢靠近你，所以每天都要面帶微笑，身邊自然會聚集一群好朋友。我們平時就要珍惜朋友，就有如英國作家柯爾頓：「真正的友誼猶如健康，只有失去時，才會意識到它的價值。」很多人都是因為失去了友誼，才知道它真正的價值，但往往後悔已經來不及了。朋友之間真的要互相好好珍惜，友誼可以是人生的調味品，也可以是人生的止痛藥。和朋友交往，要多欣賞他的優點，並且隨時注意修正自己的缺點，這樣建立的友誼才能長久。交了一個好朋友不但可以幫助我們，也可以改變我們，讓自己的逐漸成為大家喜歡的人。', metadata={'source': 'homework/1063059_陳惠惠.txt'}),\n",
       " Document(page_content='愛迪生說：「友誼能增進快樂，減少痛苦」，可見朋友有多重要。朋友像一根拐杖，當我跌倒的時候，扶我起來，支撐我繼續往前走；朋友像一位溫柔的老師，當我功課不會寫時，他會很用心的教導我；朋友像一顆開心果，當我難過或傷心時，講笑話給我聽；朋友像一個太陽，當我遇到困難時，覺得人生黑暗的時候，他會溫暖我的心。猶記一年級的時候，我有一位很要好的朋友，她喜歡運動和打球，而我也很喜歡運動，下課的時候，我常常跟她一起玩。她很大方，也很有禮貌，又喜歡幫老師做事，人緣好，所以大家都選她當班長。在她身上我看到很多優點，也學到很多，有了她的陪伴，所以每天在學校都過得很開心。有一次我在操場上跌倒流血，倒在地上爬不起來，是她扶我起來，陪我到健康中心。接下來那幾天，她幫我打掃、交作業，這讓我深深體會好朋友是多麼重要。雖然我們升上中年級後沒有在同一班，但我們還是思念著對方，下課時常常聚在一起，我的心中仍將她視為最好的朋友。如果一個人沒有朋友，就找不到陪她一起玩樂和訴苦的人，這樣就會很孤單。朋友是一生中絕對不能少的，缺少了他，我可能每天心情不好而感到孤獨寂寞。有了好朋友，是一件很幸福的事，也要懂得珍惜，建立的友誼才能長久。', metadata={'source': 'homework/1063058_王芸芸.txt'})]"
      ]
     },
     "execution_count": 6,
     "metadata": {},
     "output_type": "execute_result"
    }
   ],
   "source": [
    "retrieve.invoke({\"article\": \"哈囉你好嗎？衷心感謝～珍重再見，期待再相逢。\"})"
   ]
  },
  {
   "cell_type": "markdown",
   "metadata": {},
   "source": [
    "# 比對作文\n"
   ]
  },
  {
   "cell_type": "code",
   "execution_count": 7,
   "metadata": {},
   "outputs": [],
   "source": [
    "from pprint import pprint\n",
    "\n",
    "from langchain.prompts import ChatPromptTemplate\n",
    "from langchain.pydantic_v1 import BaseModel, Field, root_validator\n",
    "from langchain.output_parsers.openai_functions import PydanticOutputFunctionsParser\n",
    "from langchain.chains.openai_functions.base import convert_to_openai_function\n",
    "\n",
    "from langchain_setup import ChatOpenAI"
   ]
  },
  {
   "cell_type": "code",
   "execution_count": 8,
   "metadata": {},
   "outputs": [
    {
     "name": "stdout",
     "output_type": "stream",
     "text": [
      "[SystemMessage(content='你是一位資深的高中國文老師，你可以看出作文之間是否有抄襲。'),\n",
      " HumanMessage(content='其他的作文：\\n範例其他作文內容一\\n範例其他作文內容二'),\n",
      " HumanMessage(content='審查中的作文如下：\\n範例作文內容'),\n",
      " HumanMessage(content='請老師判斷審查中的作文是否有抄襲其他的作文。')]\n"
     ]
    }
   ],
   "source": [
    "prompt = ChatPromptTemplate.from_messages(\n",
    "    [\n",
    "        (\"system\", \"你是一位資深的高中國文老師，你可以看出作文之間是否有抄襲。\"),\n",
    "        (\"human\", \"其他的作文：\\n{other_articles}\"),\n",
    "        (\"human\", \"審查中的作文如下：\\n{article}\"),\n",
    "        (\"human\", \"請老師判斷審查中的作文是否有抄襲其他的作文。\"),\n",
    "    ]\n",
    ")\n",
    "\n",
    "example_prompt = prompt.format_messages(\n",
    "    article=\"範例作文內容\", other_articles=\"範例其他作文內容一\\n範例其他作文內容二\"\n",
    ")\n",
    "pprint(example_prompt)"
   ]
  },
  {
   "cell_type": "code",
   "execution_count": 9,
   "metadata": {},
   "outputs": [
    {
     "name": "stdout",
     "output_type": "stream",
     "text": [
      "{'function_call': {'name': 'Judement'},\n",
      " 'functions': [{'description': '下達是否抄襲的判定，並附上判定的原因。',\n",
      "                'name': 'Judement',\n",
      "                'parameters': {'description': '下達是否抄襲的判定，並附上判定的原因。',\n",
      "                               'properties': {'pirated': {'description': '該審查中的作文是否有抄襲其他作文的行為，包括複製貼上一部份文字、僅更換句子順序等等。',\n",
      "                                                          'title': 'Pirated',\n",
      "                                                          'type': 'boolean'},\n",
      "                                              'reason': {'description': '對下達此判定的具體理由。',\n",
      "                                                         'title': 'Reason',\n",
      "                                                         'type': 'string'}},\n",
      "                               'required': ['pirated', 'reason'],\n",
      "                               'title': 'Judement',\n",
      "                               'type': 'object'}}]}\n"
     ]
    }
   ],
   "source": [
    "class Judement(BaseModel):\n",
    "    \"下達是否抄襲的判定，並附上判定的原因。\"\n",
    "\n",
    "    pirated: bool = Field(description=\"該審查中的作文是否有抄襲其他作文的行為，包括複製貼上一部份文字、僅更換句子順序等等。\")\n",
    "    reason: str = Field(description=\"對下達此判定的具體理由。\")\n",
    "\n",
    "\n",
    "function_kwargs = convert_to_openai_function(Judement)\n",
    "openaifn_kwargs = {\n",
    "    \"functions\": [function_kwargs],\n",
    "    \"function_call\": {\"name\": \"Judement\"},\n",
    "}\n",
    "\n",
    "pprint(openaifn_kwargs)\n",
    "\n",
    "output_parser = PydanticOutputFunctionsParser(pydantic_schema=Judement)"
   ]
  },
  {
   "cell_type": "code",
   "execution_count": 10,
   "metadata": {},
   "outputs": [],
   "source": [
    "judge = prompt | ChatOpenAI(temperature=0, model_name='gpt-4').bind(**openaifn_kwargs) | output_parser"
   ]
  },
  {
   "cell_type": "code",
   "execution_count": 11,
   "metadata": {},
   "outputs": [
    {
     "name": "stdout",
     "output_type": "stream",
     "text": [
      "pirated=False reason='審查中的作文與其他的作文內容完全不同，沒有抄襲的情況。'\n"
     ]
    }
   ],
   "source": [
    "judgement = judge.invoke({\"article\": \"顆顆笑死\", \"other_articles\": \"ABCDEFG\\nHIJKLMNOP\"})\n",
    "print(judgement)"
   ]
  },
  {
   "cell_type": "markdown",
   "metadata": {},
   "source": [
    "# 串接"
   ]
  },
  {
   "cell_type": "code",
   "execution_count": 12,
   "metadata": {},
   "outputs": [],
   "source": [
    "def combine_documents(documents: list[Document]) -> str:\n",
    "    text = \"\\n\".join([doc.page_content for doc in documents])\n",
    "    if not text:\n",
    "        text = \"並無發現其他相似的作文\"\n",
    "    return text"
   ]
  },
  {
   "cell_type": "code",
   "execution_count": 13,
   "metadata": {},
   "outputs": [],
   "source": [
    "final_runnable = {\n",
    "    \"article\": itemgetter(\"article\"),\n",
    "    \"other_articles\": retrieve | combine_documents,\n",
    "} | judge"
   ]
  },
  {
   "cell_type": "code",
   "execution_count": 14,
   "metadata": {},
   "outputs": [],
   "source": [
    "pirated_article = \"\"\"朋友像一根拐杖，當我跌倒的時候，扶我起來，支撐我繼續往前走；朋友像一位溫柔的老師，當我功課不會寫時，他會很用心的教導我；朋友像一顆開心果，當我難過或傷心時，講笑話給我聽；朋友像一個太陽，當我遇到困難時，覺得人生黑暗的時候，他會溫暖我的心。愛迪生也說過：「友誼能增進快樂，減少痛苦」，可見朋友有多重要。\\n還記得一年級的時候，我有一位很要好的朋友，她喜歡運動和打球，而我也很喜歡運動，下課的時候，我常常跟她一起玩。她很大方，也很有禮貌，又喜歡幫老師做事，人緣好，所以大家都選她當班長。在她身上我看到很多優點，也學到很多，有了她的陪伴，所以每天在學校都過得很開心。有一次我在操場上跌倒流血，倒在地上爬不起來，是她扶我起來，陪我到健康中心。接下來那幾天，她幫我打掃、交作業，這讓我深深體會好朋友是多麼重要。雖然我們升上中年級後沒有在同一班，但我們還是思念著對方，下課時常常聚在一起，我的心中仍將她視為最好的朋友。如果一個人沒有朋友，就找不到陪她一起玩樂和訴苦的人，這樣就會很孤單。朋友是一生中絕對不能少的，缺少了他，我可能每天心情不好而感到孤獨寂寞。有了好朋友，是一件很幸福的事，也要懂得珍惜，建立的友誼才能長久。\n",
    "\"\"\"\n",
    "\n",
    "not_pirated_article = \"\"\"剛認識新朋友時，我常說『請』、『謝謝』、『對不起』，來保持我的形象。認識一陣子後，我常說『誒Ｘ等一下要吃什麼啦』。\"\"\""
   ]
  },
  {
   "cell_type": "code",
   "execution_count": 15,
   "metadata": {},
   "outputs": [
    {
     "data": {
      "text/plain": [
       "Judement(pirated=True, reason='審查中的作文與其他的作文有多處相同的句子，例如「朋友像一根拐杖，當我跌倒的時候，扶我起來，支撐我繼續往前走」、「愛迪生也說過：「友誼能增進快樂，減少痛苦」，可見朋友有多重要」等等，這些都是直接從其他的作文中複製過來的，因此，審查中的作文有抄襲的行為。')"
      ]
     },
     "execution_count": 15,
     "metadata": {},
     "output_type": "execute_result"
    }
   ],
   "source": [
    "final_runnable.invoke({\"article\": pirated_article})"
   ]
  },
  {
   "cell_type": "code",
   "execution_count": 16,
   "metadata": {},
   "outputs": [
    {
     "data": {
      "text/plain": [
       "Judement(pirated=False, reason='審查中的作文與其他的作文內容並無重複或相似之處，且主題與表達方式也有所不同。因此，審查中的作文並無抄襲其他作文的情況。')"
      ]
     },
     "execution_count": 16,
     "metadata": {},
     "output_type": "execute_result"
    }
   ],
   "source": [
    "final_runnable.invoke({\"article\": not_pirated_article})"
   ]
  }
 ],
 "metadata": {
  "kernelspec": {
   "display_name": "Python 3",
   "language": "python",
   "name": "python3"
  },
  "language_info": {
   "codemirror_mode": {
    "name": "ipython",
    "version": 3
   },
   "file_extension": ".py",
   "mimetype": "text/x-python",
   "name": "python",
   "nbconvert_exporter": "python",
   "pygments_lexer": "ipython3",
   "version": "3.11.6"
  }
 },
 "nbformat": 4,
 "nbformat_minor": 2
}
